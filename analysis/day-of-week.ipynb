{
 "cells": [
  {
   "cell_type": "markdown",
   "metadata": {},
   "source": [
    "# Best day of the week for a cleanup\n",
    "\n",
    "When a person or group wants to do a beach cleanup, they have to decide on which day of the week to do it.\n",
    "For example, they could choose Monday so people have the weekend free, or perhaps they would do Sunday because fewer people work on that day.\n",
    "This notebook recommends which day of the week to choose using previous cleanups' data.\n",
    "\n",
    "First, let's load in the cleanups' data.\n",
    "Note that 0 = Monday, 6 = Sunday."
   ]
  },
  {
   "cell_type": "code",
   "execution_count": 94,
   "metadata": {},
   "outputs": [
    {
     "name": "stderr",
     "output_type": "stream",
     "text": [
      "/Users/abhinavmadahar/Documents/ocean_plastic_pollution/env/lib/python3.8/site-packages/IPython/core/interactiveshell.py:3145: DtypeWarning: Columns (5,21,22,23,24,34,36,37) have mixed types.Specify dtype option on import or set low_memory=False.\n",
      "  has_raised = await self.run_ast_nodes(code_ast.body, cell_name,\n",
      "/Users/abhinavmadahar/Documents/ocean_plastic_pollution/env/lib/python3.8/site-packages/IPython/core/interactiveshell.py:3145: DtypeWarning: Columns (0) have mixed types.Specify dtype option on import or set low_memory=False.\n",
      "  has_raised = await self.run_ast_nodes(code_ast.body, cell_name,\n"
     ]
    },
    {
     "data": {
      "text/html": [
       "<div>\n",
       "<style scoped>\n",
       "    .dataframe tbody tr th:only-of-type {\n",
       "        vertical-align: middle;\n",
       "    }\n",
       "\n",
       "    .dataframe tbody tr th {\n",
       "        vertical-align: top;\n",
       "    }\n",
       "\n",
       "    .dataframe thead th {\n",
       "        text-align: right;\n",
       "    }\n",
       "</style>\n",
       "<table border=\"1\" class=\"dataframe\">\n",
       "  <thead>\n",
       "    <tr style=\"text-align: right;\">\n",
       "      <th></th>\n",
       "      <th>Day of week</th>\n",
       "      <th>State</th>\n",
       "      <th>Country</th>\n",
       "    </tr>\n",
       "  </thead>\n",
       "  <tbody>\n",
       "    <tr>\n",
       "      <th>0</th>\n",
       "      <td>5.0</td>\n",
       "      <td>California</td>\n",
       "      <td>United States</td>\n",
       "    </tr>\n",
       "    <tr>\n",
       "      <th>1</th>\n",
       "      <td>5.0</td>\n",
       "      <td>Wisconsin</td>\n",
       "      <td>United States</td>\n",
       "    </tr>\n",
       "    <tr>\n",
       "      <th>2</th>\n",
       "      <td>1.0</td>\n",
       "      <td>Queensland</td>\n",
       "      <td>Australia</td>\n",
       "    </tr>\n",
       "    <tr>\n",
       "      <th>3</th>\n",
       "      <td>1.0</td>\n",
       "      <td>Queensland</td>\n",
       "      <td>Australia</td>\n",
       "    </tr>\n",
       "    <tr>\n",
       "      <th>4</th>\n",
       "      <td>1.0</td>\n",
       "      <td>La Digue</td>\n",
       "      <td>Seychelles</td>\n",
       "    </tr>\n",
       "    <tr>\n",
       "      <th>...</th>\n",
       "      <td>...</td>\n",
       "      <td>...</td>\n",
       "      <td>...</td>\n",
       "    </tr>\n",
       "    <tr>\n",
       "      <th>102751</th>\n",
       "      <td>5.0</td>\n",
       "      <td>California</td>\n",
       "      <td>United States</td>\n",
       "    </tr>\n",
       "    <tr>\n",
       "      <th>102752</th>\n",
       "      <td>5.0</td>\n",
       "      <td>California</td>\n",
       "      <td>United States</td>\n",
       "    </tr>\n",
       "    <tr>\n",
       "      <th>102753</th>\n",
       "      <td>5.0</td>\n",
       "      <td>California</td>\n",
       "      <td>United States</td>\n",
       "    </tr>\n",
       "    <tr>\n",
       "      <th>102754</th>\n",
       "      <td>5.0</td>\n",
       "      <td>California</td>\n",
       "      <td>United States</td>\n",
       "    </tr>\n",
       "    <tr>\n",
       "      <th>102755</th>\n",
       "      <td>5.0</td>\n",
       "      <td>California</td>\n",
       "      <td>United States</td>\n",
       "    </tr>\n",
       "  </tbody>\n",
       "</table>\n",
       "<p>102756 rows × 3 columns</p>\n",
       "</div>"
      ],
      "text/plain": [
       "        Day of week       State        Country\n",
       "0               5.0  California  United States\n",
       "1               5.0   Wisconsin  United States\n",
       "2               1.0  Queensland      Australia\n",
       "3               1.0  Queensland      Australia\n",
       "4               1.0    La Digue     Seychelles\n",
       "...             ...         ...            ...\n",
       "102751          5.0  California  United States\n",
       "102752          5.0  California  United States\n",
       "102753          5.0  California  United States\n",
       "102754          5.0  California  United States\n",
       "102755          5.0  California  United States\n",
       "\n",
       "[102756 rows x 3 columns]"
      ]
     },
     "execution_count": 94,
     "metadata": {},
     "output_type": "execute_result"
    }
   ],
   "source": [
    "import pandas as pd\n",
    "import sqlite3\n",
    "\n",
    "old = pd.read_csv('../data/cleanups.csv')[['DateOriginal', 'NAME', 'COUNTRY']].rename(columns={'COUNTRY': 'Country', 'NAME': 'State'})\n",
    "old['Day of week'] = pd.to_datetime(old['DateOriginal']).dt.dayofweek\n",
    "del old['DateOriginal']\n",
    "new = pd.read_csv('../data/new-cleanups.csv')\n",
    "new = pd.DataFrame({'Day of week': pd.to_datetime(new['Cleanup Date']).dt.dayofweek, \n",
    "                    'State': new['State'].astype(str).apply(lambda state: state.split(',')[0] if state else None), \n",
    "                    'Country': new['Country']})\n",
    "cleanups = pd.concat([new, old]).reset_index().drop(columns=['index'])\n",
    "cleanups"
   ]
  },
  {
   "cell_type": "markdown",
   "metadata": {},
   "source": [
    "Now, let's start making some different models.\n",
    "First, we need to make a train and a test set."
   ]
  },
  {
   "cell_type": "code",
   "execution_count": 95,
   "metadata": {},
   "outputs": [],
   "source": [
    "from sklearn.model_selection import train_test_split\n",
    "\n",
    "train, test = train_test_split(cleanups)"
   ]
  },
  {
   "cell_type": "markdown",
   "metadata": {},
   "source": [
    "## ZeroR model\n",
    "\n",
    "This is the simplest model.\n",
    "We find the most common category and always predict it."
   ]
  },
  {
   "cell_type": "code",
   "execution_count": 96,
   "metadata": {},
   "outputs": [
    {
     "data": {
      "text/plain": [
       "0.4266806804468839"
      ]
     },
     "execution_count": 96,
     "metadata": {},
     "output_type": "execute_result"
    }
   ],
   "source": [
    "value_counts = train['Day of week'].value_counts()\n",
    "most_common = value_counts.idxmax()\n",
    "accuracy = list(test['Day of week'] == most_common).count(True) / len(test)\n",
    "accuracy"
   ]
  },
  {
   "cell_type": "markdown",
   "metadata": {},
   "source": [
    "As you can see, the model gets 43\\% accuracy.\n",
    "We will use this as a baseline for comparison when we make more models.\n",
    "\n",
    "## OneR model\n",
    "\n",
    "Now, we want to make a OneR model.\n",
    "We have two columns, the state and country of the cleanup.\n",
    "Here, we calculate the column which more accurately predicts the day of the week."
   ]
  },
  {
   "cell_type": "code",
   "execution_count": 110,
   "metadata": {},
   "outputs": [],
   "source": [
    "rules = {}\n",
    "for column in ['State', 'Country']:\n",
    "    rules[column] = {}\n",
    "    data = train[[column, 'Day of week']].dropna()\n",
    "    for value in data[column].unique():\n",
    "        try:\n",
    "            rules[column][value] = data[data[column] == value]['Day of week'].value_counts().idxmax()\n",
    "        except ValueError:\n",
    "            rules[column][value] = most_common"
   ]
  },
  {
   "cell_type": "markdown",
   "metadata": {},
   "source": [
    "Now, we find the accuracy."
   ]
  },
  {
   "cell_type": "code",
   "execution_count": 128,
   "metadata": {},
   "outputs": [
    {
     "name": "stdout",
     "output_type": "stream",
     "text": [
      "State 0.45719259376483623\n",
      "Country 0.4417073776600149\n"
     ]
    }
   ],
   "source": [
    "for column, rule in rules.items():\n",
    "    data  = test[[column, 'Day of week']]\n",
    "    pred  = [rule[value] for value in data[column] if value in rule]\n",
    "    truth = [day for value, day in zip(data[column], data['Day of week']) if value in rule]\n",
    "    accuracy = sum(int(p == t) for p, t in zip(pred, truth)) / len(pred)\n",
    "    print(column, accuracy)"
   ]
  },
  {
   "cell_type": "markdown",
   "metadata": {},
   "source": [
    "As you can see, using the state of the cleanup gives us slightly better accuracy, 46\\%."
   ]
  }
 ],
 "metadata": {
  "kernelspec": {
   "display_name": "Python 3",
   "language": "python",
   "name": "python3"
  },
  "language_info": {
   "codemirror_mode": {
    "name": "ipython",
    "version": 3
   },
   "file_extension": ".py",
   "mimetype": "text/x-python",
   "name": "python",
   "nbconvert_exporter": "python",
   "pygments_lexer": "ipython3",
   "version": "3.8.5"
  }
 },
 "nbformat": 4,
 "nbformat_minor": 4
}
