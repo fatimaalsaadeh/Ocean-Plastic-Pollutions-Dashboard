{
 "cells": [
  {
   "cell_type": "markdown",
   "metadata": {},
   "source": [
    "# How many people will volunteer for a beach cleanup event in a region over the next year?\n",
    "\n",
    "Given the beach cleanup data and a region, we want to predict how many volunteers will appear in that region for the next year.\n",
    "If someone volunteers for two events, then we count that as 2 volunteers."
   ]
  }
 ],
 "metadata": {
  "kernelspec": {
   "display_name": "Python 3",
   "language": "python",
   "name": "python3"
  },
  "language_info": {
   "codemirror_mode": {
    "name": "ipython",
    "version": 3
   },
   "file_extension": ".py",
   "mimetype": "text/x-python",
   "name": "python",
   "nbconvert_exporter": "python",
   "pygments_lexer": "ipython3",
   "version": "3.8.2"
  }
 },
 "nbformat": 4,
 "nbformat_minor": 4
}
